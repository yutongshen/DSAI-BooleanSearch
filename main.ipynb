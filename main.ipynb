{
 "cells": [
  {
   "cell_type": "markdown",
   "metadata": {},
   "source": [
    "# HW2-BooleanSearch"
   ]
  },
  {
   "cell_type": "markdown",
   "metadata": {},
   "source": [
    "## Implement\n",
    "### Constructor\n",
    "- Load `source.csv` by pandas\n",
    "\n",
    "### Query\n",
    "- Load `query.txt`\n",
    "- Counting each arguments of each query by `self.queries_distribute`\n",
    "  > For example:\n",
    "  > ```txt\n",
    "  > 美國 and 台灣\n",
    "  > 台灣 or 川普\n",
    "  > 川普 not 外星人\n",
    "  > ```\n",
    "  > then we have `self.queries_distribute = {'美國': 1, '台灣': 2, '川普': 2, '外星人': 1}`\n",
    "\n",
    "- Classify the type of logical operation (ex: `and`, `or`, `not`)\n",
    "- According to the type of logical operation, we send each query to difference function (ex: `_and_search`, `_or_search`, `_not_search`)\n",
    "\n",
    "### Logical Operation\n",
    "- We can express the query by `'arg1' and 'arg2' and 'arg3'`\n",
    "- If there is one of `arg1` to `arg3` in `self.cache`, then mean cache hit\n",
    "  > There are list total of related title in cache, so we can avoid search again\n",
    "- If there is no argument in `self.cache`, then mean cache miss\n",
    "  > We'll choice an argument that `self.queries_distribute[arg]` is the largest <br>\n",
    "  > then we'll record total of related title in `self.cache[arg]`\n",
    "\n",
    "### Save Result\n",
    "- Store result in `output.txt`\n",
    "\n",
    "### Flowchart\n",
    "<!-- flowchart](https://g.gravizo.com/svg? -->\n",
    "<!-- @startuml; -->\n",
    "<!-- %28*%29 --/> \"Load source.csv\" as B; -->\n",
    "<!-- B --/> \"Load query.txt\" as C; -->\n",
    "<!-- C --/> \"Query\" as E; -->\n",
    "<!-- E -/> \"Search the whole of dataset\" as G; -->\n",
    "<!-- G --/> \"According to query, matching\\n which title is fit the bill\" as H; -->\n",
    "<!-- H --/> if \"Finish ?\" then; -->\n",
    "<!--   --/> [True] \"Store output.txt\" as I; -->\n",
    "<!-- else; -->\n",
    "<!--   -----/> [False] E; -->\n",
    "<!-- endif; -->\n",
    "<!-- I --/> %28*%29; -->\n",
    "<!-- @enduml -->\n",
    "<!-- ) -->\n",
    "\n",
    "\n",
    "![flowchart](https://g.gravizo.com/svg?\n",
    "@startuml;\n",
    "%28*%29 --> \"Load source.csv\" as B;\n",
    "B --> \"Load query.txt\" as C;\n",
    "C --> \"Build cache\" as D;\n",
    "D --> \"Query\" as E;\n",
    "E --> if \"Cache hit ?\"  then;\n",
    "  -->[True] \"Load cache, and\\n only search the\\n list in cache\" as F;\n",
    "else;\n",
    "  -->[False] \"Search all dataset\" as G;\n",
    "endif;\n",
    "F --> \"According to query, matching\\n which title is fit the bill\" as H;\n",
    "G --> H;\n",
    "H --> if \"Finish ?\" then;\n",
    "  --> [True] \"Store output.txt\" as I;\n",
    "else;\n",
    "  -----> [False] E;\n",
    "endif;\n",
    "I --> %28*%29;\n",
    "@enduml\n",
    ")"
   ]
  },
  {
   "cell_type": "markdown",
   "metadata": {},
   "source": [
    "## Import function\n",
    "- `src/search.py`"
   ]
  },
  {
   "cell_type": "code",
   "execution_count": 1,
   "metadata": {},
   "outputs": [],
   "source": [
    "from src.search import SearchEngine"
   ]
  },
  {
   "cell_type": "markdown",
   "metadata": {},
   "source": [
    "## Main module"
   ]
  },
  {
   "cell_type": "code",
   "execution_count": 2,
   "metadata": {
    "scrolled": false
   },
   "outputs": [
    {
     "name": "stdout",
     "output_type": "stream",
     "text": [
      "CPU times: user 2.41 s, sys: 20.2 ms, total: 2.43 s\n",
      "Wall time: 2.43 s\n"
     ]
    }
   ],
   "source": [
    "%%time\n",
    "if __name__ == '__main__':\n",
    "    # You should not modify this part.\n",
    "    import argparse\n",
    "\n",
    "    parser = argparse.ArgumentParser()\n",
    "    parser.add_argument('--source',\n",
    "                       default='source.csv',\n",
    "                       help='input source data file name')\n",
    "    parser.add_argument('--query',\n",
    "                        default='query.txt',\n",
    "                        help='query file name')\n",
    "    parser.add_argument('--output',\n",
    "                        default='output.txt',\n",
    "                        help='output file name')\n",
    "    parser.add_argument('-f',\n",
    "                        default='',\n",
    "                        help='ipython')\n",
    "    args = parser.parse_args()\n",
    "    \n",
    "    # Please implement your algorithm below\n",
    "    \n",
    "    # TODO load source data, build search engine\n",
    "    se = SearchEngine(args.source)\n",
    "\n",
    "    # TODO compute query result\n",
    "    se.query(args.query)\n",
    "    \n",
    "    # TODO output result\n",
    "    se.save_result(args.output)\n"
   ]
  }
 ],
 "metadata": {
  "kernelspec": {
   "display_name": "Python 3",
   "language": "python",
   "name": "python3"
  },
  "language_info": {
   "codemirror_mode": {
    "name": "ipython",
    "version": 3
   },
   "file_extension": ".py",
   "mimetype": "text/x-python",
   "name": "python",
   "nbconvert_exporter": "python",
   "pygments_lexer": "ipython3",
   "version": "3.6.4"
  }
 },
 "nbformat": 4,
 "nbformat_minor": 2
}
